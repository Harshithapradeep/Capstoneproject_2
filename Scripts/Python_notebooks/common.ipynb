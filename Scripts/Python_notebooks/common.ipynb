{
 "cells": [
  {
   "cell_type": "code",
   "execution_count": null,
   "metadata": {},
   "outputs": [],
   "source": [
    "#Modules used in this program\n",
    "import pandas as pd\n",
    "import pandasql as ps \n",
    "import os\n",
    "from sqlalchemy import create_engine,text"
   ]
  },
  {
   "cell_type": "code",
   "execution_count": null,
   "metadata": {},
   "outputs": [],
   "source": [
    "# Set database credentials.\n",
    "creds = {'usr': 'root',\n",
    "            'pwd': 'admin%40123',\n",
    "            'hst': 'localhost',\n",
    "            'prt': 3306,\n",
    "            'dbn': 'DataSpark'}\n",
    "# MySQL conection string.\n",
    "connstr = 'mysql+mysqlconnector://{usr}:{pwd}@{hst}:{prt}/{dbn}'\n",
    "# Create sqlalchemy engine for MySQL connection.\n",
    "engine = create_engine(connstr.format(**creds))\n"
   ]
  }
 ],
 "metadata": {
  "kernelspec": {
   "display_name": "Python 3",
   "language": "python",
   "name": "python3"
  },
  "language_info": {
   "name": "python",
   "version": "3.12.4"
  }
 },
 "nbformat": 4,
 "nbformat_minor": 2
}
